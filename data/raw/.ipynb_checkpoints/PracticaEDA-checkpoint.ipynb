{
 "cells": [
  {
   "cell_type": "code",
   "execution_count": null,
   "id": "3b900ea1",
   "metadata": {},
   "outputs": [],
   "source": [
    "import pandas as pd\n",
    "import numpy as np\n",
    "import seaborn as sns\n",
    "from matplotlib import pyplot as plt\n",
    "import plotly.express as px\n",
    "import requests\n",
    "import pandas_profiling\n",
    "from pandas_profiling.utils.cache import cache_file\n",
    "from sklearn.impute import KNNImputer\n",
    "import scipy.stats as ss\n",
    "import warnings\n",
    "\n",
    "pd.set_option('display.max_columns', 500)\n",
    "pd.set_option('display.max_rows', 5000)"
   ]
  },
  {
   "cell_type": "code",
   "execution_count": null,
   "id": "8b656960",
   "metadata": {},
   "outputs": [],
   "source": [
    "def dame_variables_categoricas(dataset=None):\n",
    "    '''\n",
    "    ----------------------------------------------------------------------------------------------------------\n",
    "    Función dame_variables_categoricas:\n",
    "    ----------------------------------------------------------------------------------------------------------\n",
    "        -Descripción: Función que recibe un dataset y devuelve una lista con los nombres de las \n",
    "        variables categóricas\n",
    "        -Inputs: \n",
    "            -- dataset: Pandas dataframe que contiene los datos\n",
    "        -Return:\n",
    "            -- lista_variables_categoricas: lista con los nombres de las variables categóricas del\n",
    "            dataset de entrada con menos de 100 valores diferentes\n",
    "            -- 1: la ejecución es incorrecta\n",
    "    '''\n",
    "    if dataset is None:\n",
    "        print(u'\\nFaltan argumentos por pasar a la función')\n",
    "        return 1\n",
    "    lista_variables_categoricas = []\n",
    "    other = []\n",
    "    for i in dataset.columns:\n",
    "        if (dataset[i].dtype!=float) & (dataset[i].dtype!=int):\n",
    "            unicos = int(len(np.unique(dataset[i].dropna(axis=0, how='all'))))\n",
    "            if unicos < 100:\n",
    "                lista_variables_categoricas.append(i)\n",
    "            else:\n",
    "                other.append(i)\n",
    "\n",
    "    return lista_variables_categoricas, other"
   ]
  },
  {
   "cell_type": "code",
   "execution_count": null,
   "id": "64250929",
   "metadata": {},
   "outputs": [],
   "source": [
    "path_folder = \"./data/\"\n",
    "pd_loan_p1 = pd.read_csv(\"Loan_training_set_1_4.csv\", skiprows=1, low_memory=False)\n",
    "pd_loan_p2 = pd.read_csv(\"Loan_training_set_2_4.csv\", skiprows=1, low_memory=False)\n",
    "pd_loan_p3 = pd.read_csv(\"Loan_training_set_3_4.csv\", skiprows=1, low_memory=False)\n",
    "pd_loan_p4 = pd.read_csv(\"Loan_training_set_4_4.csv\", skiprows=1, low_memory=False)"
   ]
  },
  {
   "cell_type": "code",
   "execution_count": null,
   "id": "6cb718ce",
   "metadata": {},
   "outputs": [],
   "source": [
    "# comprobacion de que son las mismas columnas\n",
    "print(len(pd_loan_p1.columns), \n",
    "      len(pd_loan_p2.columns), \n",
    "      len(pd_loan_p3.columns), \n",
    "      len(pd_loan_p4.columns))\n",
    "\n",
    "print(set(pd_loan_p1.columns==pd_loan_p2.columns), \n",
    "      set(pd_loan_p2.columns==pd_loan_p3.columns),\n",
    "      set(pd_loan_p3.columns==pd_loan_p4.columns))"
   ]
  },
  {
   "cell_type": "code",
   "execution_count": null,
   "id": "59ff65cc",
   "metadata": {},
   "outputs": [],
   "source": [
    "list_future_variables = [\"acc_now_delinq\", \"acc_open_past_24mths\", \"avg_cur_bal\",\n",
    "                        \"bc_open_to_buy\", \"bc_util\", \"chargeoff_within_12_mths\",\n",
    "                        \"collection_recovery_fee\", \"collections_12_mths_ex_med\", \"debt_settlement_flag\",\n",
    "                        \"delinq_2yrs\", \"delinq_amnt\", \"disbursement_method\", \"funded_amnt\",\n",
    "                        \"funded_amnt_inv\", \"hardship_flag\", \"inq_last_6mths\", \"last_credit_pull_d\",\n",
    "                        \"last_fico_range_high\", \"last_fico_range_low\", \"last_pymnt_amnt\",\n",
    "                        \"last_pymnt_d\", \"mo_sin_rcnt_rev_tl_op\", \"mo_sin_rcnt_tl\", \"mths_since_recent_bc\",\n",
    "                        \"mths_since_recent_inq\",\"num_accts_ever_120_pd\", \"num_actv_bc_tl\", \"num_actv_rev_tl\",\n",
    "                        \"num_bc_sats\", \"num_bc_tl\", \"num_il_tl\", \"num_op_rev_tl\", \"num_rev_accts\",\n",
    "                        \"num_rev_tl_bal_gt_0\", \"num_sats\", \"num_tl_120dpd_2m\", \"num_tl_30dpd\",\n",
    "                        \"num_tl_90g_dpd_24m\", \"num_tl_op_past_12m\", \"out_prncp\", \"out_prncp_inv\",\n",
    "                        \"pct_tl_nvr_dlq\", \"percent_bc_gt_75\", \"pymnt_plan\", \"recoveries\", \"tax_liens\",\n",
    "                        \"tot_coll_amt\", \"tot_cur_bal\", \"tot_hi_cred_lim\", \"total_bal_ex_mort\",\n",
    "                        \"total_bc_limit\", \"total_il_high_credit_limit\", \"total_pymnt\", \"total_pymnt_inv\",\n",
    "                        \"total_rec_int\", \"total_rec_late_fee\", \"total_rec_prncp\", \"total_rev_hi_lim\",\n",
    "                        \"issue_d\", \"policy_code\", \"revol_bal\", \"next_pymnt_d\"]\n",
    "list_other_var = ['title']\n",
    "len(list_future_variables)"
   ]
  },
  {
   "cell_type": "code",
   "execution_count": null,
   "id": "631f2efd",
   "metadata": {},
   "outputs": [],
   "source": [
    "#union de las tablas\n",
    "\n",
    "pd_loan = pd.concat([pd_loan_p1, pd_loan_p2, pd_loan_p3, pd_loan_p4], axis=0)\\\n",
    "            .drop(list_future_variables+list_other_var,axis=1)\\\n",
    "            .set_index([\"id\", \"url\", \"zip_code\"])\n",
    "\n",
    "\n",
    "pd_loan.head()"
   ]
  },
  {
   "cell_type": "code",
   "execution_count": null,
   "id": "5f989e4b",
   "metadata": {},
   "outputs": [],
   "source": [
    "print(pd_loan.shape, pd_loan.drop_duplicates().shape)"
   ]
  },
  {
   "cell_type": "code",
   "execution_count": null,
   "id": "29924aad",
   "metadata": {},
   "outputs": [],
   "source": [
    "pd_loan.dtypes.to_dict()"
   ]
  },
  {
   "cell_type": "code",
   "execution_count": null,
   "id": "9ede81ff",
   "metadata": {},
   "outputs": [],
   "source": [
    "pd_plot_loan_status = pd_loan['loan_status']\\\n",
    "        .value_counts(normalize=True)\\\n",
    "        .mul(100).rename('percent').reset_index()\n",
    "\n",
    "pd_plot_loan_status_conteo = pd_loan['loan_status'].value_counts().reset_index()\n",
    "pd_plot_loan_status_pc = pd.merge(pd_plot_loan_status, pd_plot_loan_status_conteo, on=['index'], how='inner')\n",
    "pd_plot_loan_status_pc"
   ]
  },
  {
   "cell_type": "code",
   "execution_count": null,
   "id": "be252bdb",
   "metadata": {},
   "outputs": [],
   "source": [
    "fig = px.histogram(pd_plot_loan_status_pc, x=\"index\", y=['percent'])\n",
    "fig.show()\n"
   ]
  },
  {
   "cell_type": "code",
   "execution_count": null,
   "id": "6e970129",
   "metadata": {},
   "outputs": [],
   "source": [
    "pd_loan = pd_loan[(pd_loan['loan_status']=='Fully Paid') | \n",
    "                  (pd_loan['loan_status']=='Charged Off')]\n",
    "pd_loan.shape"
   ]
  },
  {
   "cell_type": "code",
   "execution_count": null,
   "id": "cc941f1a",
   "metadata": {},
   "outputs": [],
   "source": [
    "pd_plot_loan_status = pd_loan['loan_status']\\\n",
    "        .value_counts(normalize=True)\\\n",
    "        .mul(100).rename('percent').reset_index()\n",
    "\n",
    "pd_plot_loan_status_conteo = pd_loan['loan_status'].value_counts().reset_index()\n",
    "pd_plot_loan_status_pc = pd.merge(pd_plot_loan_status, \n",
    "                                  pd_plot_loan_status_conteo, on=['index'], how='inner')\n",
    "pd_plot_loan_status_pc\n",
    "fig = px.histogram(pd_plot_loan_status_pc, x=\"index\", y=['percent'])\n",
    "fig.show()"
   ]
  },
  {
   "cell_type": "code",
   "execution_count": null,
   "id": "58fa5324",
   "metadata": {},
   "outputs": [],
   "source": [
    "pd_series_null_columns = pd_loan.isnull().sum().sort_values(ascending=False)\n",
    "pd_series_null_rows = pd_loan.isnull().sum(axis=1).sort_values(ascending=False)\n",
    "print(pd_series_null_columns.shape, pd_series_null_rows.shape)\n",
    "\n",
    "pd_null_columnas = pd.DataFrame(pd_series_null_columns, columns=['nulos_columnas'])     \n",
    "pd_null_filas = pd.DataFrame(pd_series_null_rows, columns=['nulos_filas'])  \n",
    "pd_null_filas['target'] = pd_loan['loan_status'].copy()\n",
    "pd_null_columnas['porcentaje_columnas'] = pd_null_columnas['nulos_columnas']/pd_loan.shape[0]\n",
    "pd_null_filas['porcentaje_filas']= pd_null_filas['nulos_filas']/pd_loan.shape[1]\n",
    "# # pd_null"
   ]
  },
  {
   "cell_type": "code",
   "execution_count": null,
   "id": "f05b87d0",
   "metadata": {},
   "outputs": [],
   "source": [
    "pd_loan.shape"
   ]
  },
  {
   "cell_type": "code",
   "execution_count": null,
   "id": "2a55f6e2",
   "metadata": {},
   "outputs": [],
   "source": [
    "pd_null_columnas"
   ]
  },
  {
   "cell_type": "code",
   "execution_count": null,
   "id": "51595bd3",
   "metadata": {},
   "outputs": [],
   "source": [
    "threshold=0.9\n",
    "list_vars_not_null = list(pd_null_columnas[pd_null_columnas['porcentaje_columnas']<threshold].index)\n",
    "pd_loan_filter_null = pd_loan.loc[:, list_vars_not_null]\n",
    "pd_loan_filter_null.shape"
   ]
  },
  {
   "cell_type": "code",
   "execution_count": null,
   "id": "92effd1c",
   "metadata": {},
   "outputs": [],
   "source": [
    "pd_null_filas"
   ]
  },
  {
   "cell_type": "code",
   "execution_count": null,
   "id": "7e2b0eef",
   "metadata": {},
   "outputs": [],
   "source": [
    "list_cat_vars, other = dame_variables_categoricas(dataset=pd_loan_filter_null)\n",
    "pd_loan_filter_null[list_cat_vars] = pd_loan_filter_null[list_cat_vars].astype(\"category\")\n",
    "pd_loan_filter_null[list_cat_vars].head()"
   ]
  },
  {
   "cell_type": "code",
   "execution_count": null,
   "id": "b7b6cd7c",
   "metadata": {},
   "outputs": [],
   "source": [
    "list_cat_vars"
   ]
  },
  {
   "cell_type": "code",
   "execution_count": null,
   "id": "87b6d969",
   "metadata": {},
   "outputs": [],
   "source": [
    "pd_loan_filter_null['term'].value_counts()"
   ]
  },
  {
   "cell_type": "code",
   "execution_count": null,
   "id": "4874c45b",
   "metadata": {},
   "outputs": [],
   "source": [
    "pd_loan_filter_null['emp_length'].value_counts()"
   ]
  },
  {
   "cell_type": "code",
   "execution_count": null,
   "id": "90f749b5",
   "metadata": {},
   "outputs": [],
   "source": [
    "pd_loan_filter_null[list_cat_vars].dtypes"
   ]
  },
  {
   "cell_type": "code",
   "execution_count": null,
   "id": "bd3e4a34",
   "metadata": {},
   "outputs": [],
   "source": [
    "pd_loan_filter_null[other].head(10)"
   ]
  },
  {
   "cell_type": "code",
   "execution_count": null,
   "id": "deba5bb5",
   "metadata": {},
   "outputs": [],
   "source": [
    "print(pd_loan_filter_null[\"emp_title\"].value_counts().count())\n",
    "pd_loan_filter_null[\"emp_title\"]\\\n",
    "    .apply(lambda x: str(x).lower().strip()).value_counts(normalize=True)#.count()"
   ]
  },
  {
   "cell_type": "code",
   "execution_count": null,
   "id": "560800a4",
   "metadata": {},
   "outputs": [],
   "source": [
    "pd_loan_filter_null.loc[:,[\"int_rate\", \"revol_util\"]] = pd_loan_filter_null.loc[:,[\"int_rate\", \"revol_util\"]]\\\n",
    "                                        .apply(lambda x: x.str.replace(\"%\", \"\").astype(float))\n",
    "\n",
    "pd_loan_filter_null['emp_length'] = pd_loan_filter_null['emp_length'].str.extract('(\\d+)').astype(float)\n",
    "pd_loan_filter_null['term'] = pd_loan_filter_null['term'].str.extract('(\\d+)').astype(float)\n",
    "pd_loan_filter_null['sub_grade'] = pd_loan_filter_null['sub_grade'].str.extract('(\\d+)').astype(float)\n",
    "\n",
    "months = {'Jan' : 1, 'Feb' : 2, 'Mar' : 3, 'Apr' : 4, 'May' : 5, 'Jun' : 6,\n",
    "          'Jul' : 7, 'Aug' : 8, 'Sep' : 9, 'Oct' : 10, 'Nov' : 11, 'Dec' : 12}\n",
    "\n",
    "pd_loan_filter_null['earliest_cr_line_month'] = pd_loan_filter_null['earliest_cr_line']\\\n",
    "                                                    .apply(lambda x: x.split('-')[0])\\\n",
    "                                                    .replace(months).astype(float)\n",
    "\n",
    "pd_loan_filter_null['earliest_cr_line_year'] = pd_loan_filter_null['earliest_cr_line']\\\n",
    "                                                    .apply(lambda x: x.split('-')[1]).astype(float)"
   ]
  },
  {
   "cell_type": "code",
   "execution_count": null,
   "id": "afdd5b0a",
   "metadata": {},
   "outputs": [],
   "source": [
    "pd_loan_filter_null.head()"
   ]
  },
  {
   "cell_type": "code",
   "execution_count": null,
   "id": "fbe81e15",
   "metadata": {},
   "outputs": [],
   "source": [
    "pd_loan_filter_null.shape"
   ]
  },
  {
   "cell_type": "code",
   "execution_count": null,
   "id": "8900d567",
   "metadata": {},
   "outputs": [],
   "source": [
    "report = pd_loan_filter_null.profile_report(\n",
    "    sort=None, html={\"style\": {\"full_width\": True}}, progress_bar=False\n",
    ")\n",
    "#report"
   ]
  },
  {
   "cell_type": "code",
   "execution_count": null,
   "id": "bbbcab0b",
   "metadata": {},
   "outputs": [],
   "source": [
    "# lo guardo en html\n",
    "#profile_report = pd_loan_filter_null.profile_report(html={\"style\": {\"full_width\": True}},correlations={\"cramers\": {\"calculate\": False}})\n",
    "#profile_report.to_file(\"example2.html\")"
   ]
  },
  {
   "cell_type": "code",
   "execution_count": null,
   "id": "5a17a817",
   "metadata": {},
   "outputs": [],
   "source": [
    "pd_loan_filter_null.drop(\"earliest_cr_line\",axis=1).to_csv(\"pd_data_initial_preprocessing.csv\")"
   ]
  },
  {
   "cell_type": "code",
   "execution_count": null,
   "id": "b1f4ceaa",
   "metadata": {},
   "outputs": [],
   "source": [
    "\n",
    "def plot_feature(df, col_name, isContinuous, target):\n",
    "    \"\"\"\n",
    "    Visualize a variable with and without faceting on the loan status.\n",
    "    - df dataframe\n",
    "    - col_name is the variable name in the dataframe\n",
    "    - full_name is the full variable name\n",
    "    - continuous is True if the variable is continuous, False otherwise\n",
    "    \"\"\"\n",
    "    f, (ax1, ax2) = plt.subplots(nrows=1, ncols=2, figsize=(12,3), dpi=90)\n",
    "    \n",
    "    count_null = df[col_name].isnull().sum()\n",
    "    if isContinuous:\n",
    "        \n",
    "        sns.histplot(df.loc[df[col_name].notnull(), col_name], kde=False, ax=ax1)\n",
    "    else:\n",
    "        sns.countplot(df[col_name], order=sorted(df[col_name].unique()), color='#5975A4', saturation=1, ax=ax1)\n",
    "    ax1.set_xlabel(col_name)\n",
    "    ax1.set_ylabel('Count')\n",
    "    ax1.set_title(col_name+ ' Numero de nulos: '+str(count_null))\n",
    "    plt.xticks(rotation = 90)\n",
    "\n",
    "\n",
    "    if isContinuous:\n",
    "        sns.boxplot(x=col_name, y=target, data=df, ax=ax2)\n",
    "        ax2.set_ylabel('')\n",
    "        ax2.set_title(col_name + ' by '+target)\n",
    "    else:\n",
    "        data = df.groupby(col_name)[target].value_counts(normalize=True).to_frame('proportion').reset_index() \n",
    "        data.columns = [i, target, 'proportion']\n",
    "        #sns.barplot(x = col_name, y = 'proportion', hue= target, data = data, saturation=1, ax=ax2)\n",
    "        sns.barplot(x = col_name, y = 'proportion', hue= target, data = data, saturation=1, ax=ax2)\n",
    "        ax2.set_ylabel(target+' fraction')\n",
    "        ax2.set_title(target)\n",
    "        plt.xticks(rotation = 90)\n",
    "    ax2.set_xlabel(col_name)\n",
    "    \n",
    "    plt.tight_layout()\n",
    "    \n",
    "\n",
    "def dame_variables_categoricas(dataset=None):\n",
    "    '''\n",
    "    ----------------------------------------------------------------------------------------------------------\n",
    "    Función dame_variables_categoricas:\n",
    "    ----------------------------------------------------------------------------------------------------------\n",
    "        -Descripción: Función que recibe un dataset y devuelve una lista con los nombres de las \n",
    "        variables categóricas\n",
    "        -Inputs: \n",
    "            -- dataset: Pandas dataframe que contiene los datos\n",
    "        -Return:\n",
    "            -- lista_variables_categoricas: lista con los nombres de las variables categóricas del\n",
    "            dataset de entrada con menos de 100 valores diferentes\n",
    "            -- 1: la ejecución es incorrecta\n",
    "    '''\n",
    "    if dataset is None:\n",
    "        print(u'\\nFaltan argumentos por pasar a la función')\n",
    "        return 1\n",
    "    lista_variables_categoricas = []\n",
    "    other = []\n",
    "    for i in dataset.columns:\n",
    "        if (dataset[i].dtype!=float) & (dataset[i].dtype!=int):\n",
    "            unicos = int(len(np.unique(dataset[i].dropna(axis=0, how='all'))))\n",
    "            if unicos < 100:\n",
    "                lista_variables_categoricas.append(i)\n",
    "            else:\n",
    "                other.append(i)\n",
    "\n",
    "    return lista_variables_categoricas, other\n",
    "\n",
    "\n",
    "def get_corr_matrix(dataset = None, metodo='pearson', size_figure=[10,8]):\n",
    "    # Para obtener la correlación de Spearman, sólo cambiar el metodo por 'spearman'\n",
    "\n",
    "    if dataset is None:\n",
    "        print(u'\\nHace falta pasar argumentos a la función')\n",
    "        return 1\n",
    "    sns.set(style=\"white\")\n",
    "    # Compute the correlation matrix\n",
    "    corr = dataset.corr(method=metodo) \n",
    "    # Set self-correlation to zero to avoid distraction\n",
    "    for i in range(corr.shape[0]):\n",
    "        corr.iloc[i, i] = 0\n",
    "    # Set up the matplotlib figure\n",
    "    f, ax = plt.subplots(figsize=size_figure)\n",
    "    # Draw the heatmap with the mask and correct aspect ratio\n",
    "    sns.heatmap(corr, center=0,\n",
    "                square=True, linewidths=.5,  cmap ='viridis' ) #cbar_kws={\"shrink\": .5}\n",
    "    plt.show()\n",
    "    \n",
    "    return 0\n",
    "\n",
    "def get_deviation_of_mean_perc(pd_loan, list_var_continuous, target, multiplier):\n",
    "    \"\"\"\n",
    "    Devuelve el porcentaje de valores que exceden del intervalo de confianza\n",
    "    :type series:\n",
    "    :param multiplier:\n",
    "    :return:\n",
    "    \"\"\"\n",
    "    pd_final = pd.DataFrame()\n",
    "    \n",
    "    for i in list_var_continuous:\n",
    "        \n",
    "        series_mean = pd_loan[i].mean()\n",
    "        series_std = pd_loan[i].std()\n",
    "        std_amp = multiplier * series_std\n",
    "        left = series_mean - std_amp\n",
    "        right = series_mean + std_amp\n",
    "        size_s = pd_loan[i].size\n",
    "        \n",
    "        perc_goods = pd_loan[i][(pd_loan[i] >= left) & (pd_loan[i] <= right)].size/size_s\n",
    "        perc_excess = pd_loan[i][(pd_loan[i] < left) | (pd_loan[i] > right)].size/size_s\n",
    "        \n",
    "        if perc_excess>0:    \n",
    "            pd_concat_percent = pd.DataFrame(pd_loan[target][(pd_loan[i] < left) | (pd_loan[i] > right)]\\\n",
    "                                            .value_counts(normalize=True).reset_index()).T\n",
    "            pd_concat_percent.columns = [pd_concat_percent.iloc[0,0], \n",
    "                                         pd_concat_percent.iloc[0,1]]\n",
    "            pd_concat_percent = pd_concat_percent.drop('index',axis=0)\n",
    "            pd_concat_percent['variable'] = i\n",
    "            pd_concat_percent['sum_outlier_values'] = pd_loan[i][(pd_loan[i] < left) | (pd_loan[i] > right)].size\n",
    "            pd_concat_percent['porcentaje_sum_null_values'] = perc_excess\n",
    "            pd_final = pd.concat([pd_final, pd_concat_percent], axis=0).reset_index(drop=True)\n",
    "            \n",
    "    if pd_final.empty:\n",
    "        print('No existen variables con valores nulos')\n",
    "        \n",
    "    return pd_final\n",
    "\n",
    "\n",
    "def get_percent_null_values_target(pd_loan, list_var_continuous, target):\n",
    "\n",
    "    pd_final = pd.DataFrame()\n",
    "    for i in list_var_continuous:\n",
    "        if pd_loan[i].isnull().sum()>0:\n",
    "            pd_concat_percent = pd.DataFrame(pd_loan[target][pd_loan[i].isnull()]\\\n",
    "                                            .value_counts(normalize=True).reset_index()).T\n",
    "            pd_concat_percent.columns = [pd_concat_percent.iloc[0,0], \n",
    "                                         pd_concat_percent.iloc[0,1]]\n",
    "            pd_concat_percent = pd_concat_percent.drop('index',axis=0)\n",
    "            pd_concat_percent['variable'] = i\n",
    "            pd_concat_percent['sum_null_values'] = pd_loan[i].isnull().sum()\n",
    "            pd_concat_percent['porcentaje_sum_null_values'] = pd_loan[i].isnull().sum()/pd_loan.shape[0]\n",
    "            pd_final = pd.concat([pd_final, pd_concat_percent], axis=0).reset_index(drop=True)\n",
    "            \n",
    "    if pd_final.empty:\n",
    "        print('No existen variables con valores nulos')\n",
    "        \n",
    "    return pd_final\n",
    "\n",
    "\n",
    "\n",
    "def cramers_v(confusion_matrix):\n",
    "    \"\"\" \n",
    "    calculate Cramers V statistic for categorial-categorial association.\n",
    "    uses correction from Bergsma and Wicher,\n",
    "    Journal of the Korean Statistical Society 42 (2013): 323-328\n",
    "    \n",
    "    confusion_matrix: tabla creada con pd.crosstab()\n",
    "    \n",
    "    \"\"\"\n",
    "    chi2 = ss.chi2_contingency(confusion_matrix)[0]\n",
    "    n = confusion_matrix.sum()\n",
    "    phi2 = chi2 / n\n",
    "    r, k = confusion_matrix.shape\n",
    "    phi2corr = max(0, phi2 - ((k-1)*(r-1))/(n-1))\n",
    "    rcorr = r - ((r-1)**2)/(n-1)\n",
    "    kcorr = k - ((k-1)**2)/(n-1)\n",
    "    return np.sqrt(phi2corr / min((kcorr-1), (rcorr-1)))"
   ]
  },
  {
   "cell_type": "code",
   "execution_count": null,
   "id": "79caf8db",
   "metadata": {},
   "outputs": [],
   "source": [
    "pd_loan = pd.read_csv(\"pd_data_initial_preprocessing.csv\")\\\n",
    "            .set_index([\"id\", \"url\", \"zip_code\"])\\\n",
    "            .drop('emp_title',axis=1)\n",
    "pd_loan.shape"
   ]
  },
  {
   "cell_type": "code",
   "execution_count": null,
   "id": "44bade92",
   "metadata": {},
   "outputs": [],
   "source": [
    "pd_loan.columns"
   ]
  },
  {
   "cell_type": "code",
   "execution_count": null,
   "id": "1aefc5d4",
   "metadata": {},
   "outputs": [],
   "source": [
    "list_var_cat, other = dame_variables_categoricas(dataset=pd_loan)\n",
    "pd_loan[list_var_cat] = pd_loan[list_var_cat].astype(\"category\")\n",
    "list_var_continuous = list(pd_loan.select_dtypes('float').columns)\n",
    "pd_loan[list_var_continuous] = pd_loan[list_var_continuous].astype(float)\n",
    "pd_loan.dtypes"
   ]
  },
  {
   "cell_type": "code",
   "execution_count": null,
   "id": "5b8179e9",
   "metadata": {},
   "outputs": [],
   "source": [
    "pd_plot_loan_status = pd_loan['loan_status']\\\n",
    "        .value_counts(normalize=True)\\\n",
    "        .mul(100).rename('percent').reset_index()\n",
    "\n",
    "pd_plot_loan_status_conteo = pd_loan['loan_status'].value_counts().reset_index()\n",
    "pd_plot_loan_status_pc = pd.merge(pd_plot_loan_status, \n",
    "                                  pd_plot_loan_status_conteo, on=['index'], how='inner')\n",
    "\n",
    "fig = px.histogram(pd_plot_loan_status_pc, x=\"index\", y=['percent'])\n",
    "fig.show()"
   ]
  },
  {
   "cell_type": "code",
   "execution_count": null,
   "id": "c51affbe",
   "metadata": {},
   "outputs": [],
   "source": [
    "from sklearn.model_selection import train_test_split\n",
    "X_pd_loan, X_pd_loan_test, y_pd_loan, y_pd_loan_test = train_test_split(pd_loan.drop('loan_status',axis=1), \n",
    "                                                                     pd_loan['loan_status'], \n",
    "                                                                     stratify=pd_loan['loan_status'], \n",
    "                                                                     test_size=0.2)\n",
    "pd_loan_train = pd.concat([X_pd_loan, y_pd_loan],axis=1)\n",
    "pd_loan_test = pd.concat([X_pd_loan_test, y_pd_loan_test],axis=1)"
   ]
  },
  {
   "cell_type": "code",
   "execution_count": null,
   "id": "0533233b",
   "metadata": {},
   "outputs": [],
   "source": [
    "print('== Train\\n', pd_loan_train['loan_status'].value_counts(normalize=True))\n",
    "print('== Test\\n', pd_loan_test['loan_status'].value_counts(normalize=True))"
   ]
  },
  {
   "cell_type": "code",
   "execution_count": null,
   "id": "025658b8",
   "metadata": {},
   "outputs": [],
   "source": [
    "pd_series_null_columns = pd_loan_train.isnull().sum().sort_values(ascending=False)\n",
    "pd_series_null_rows = pd_loan_train.isnull().sum(axis=1).sort_values(ascending=False)\n",
    "print(pd_series_null_columns.shape, pd_series_null_rows.shape)\n",
    "\n",
    "pd_null_columnas = pd.DataFrame(pd_series_null_columns, columns=['nulos_columnas'])     \n",
    "pd_null_filas = pd.DataFrame(pd_series_null_rows, columns=['nulos_filas'])  \n",
    "pd_null_filas['target'] = pd_loan['loan_status'].copy()\n",
    "pd_null_columnas['porcentaje_columnas'] = pd_null_columnas['nulos_columnas']/pd_loan_train.shape[0]\n",
    "pd_null_filas['porcentaje_filas']= pd_null_filas['nulos_filas']/pd_loan_train.shape[1]"
   ]
  },
  {
   "cell_type": "code",
   "execution_count": null,
   "id": "5e106cf7",
   "metadata": {},
   "outputs": [],
   "source": [
    "pd_null_columnas"
   ]
  },
  {
   "cell_type": "code",
   "execution_count": null,
   "id": "fb789382",
   "metadata": {},
   "outputs": [],
   "source": [
    "pd_null_filas.head()"
   ]
  },
  {
   "cell_type": "code",
   "execution_count": null,
   "id": "21cf0eb9",
   "metadata": {},
   "outputs": [],
   "source": [
    "# warnings.filterwarnings('ignore')\n",
    "for i in list(pd_loan_train.columns):\n",
    "    if (pd_loan_train[i].dtype==float) & (i!='loan_status'):\n",
    "        plot_feature(pd_loan_train, col_name=i, isContinuous=True, target='loan_status')\n",
    "    elif  i!='loan_status':\n",
    "        plot_feature(pd_loan_train, col_name=i, isContinuous=False, target='loan_status')"
   ]
  },
  {
   "cell_type": "code",
   "execution_count": null,
   "id": "d559aa1b",
   "metadata": {},
   "outputs": [],
   "source": [
    "list_var_continuous"
   ]
  },
  {
   "cell_type": "code",
   "execution_count": null,
   "id": "4810fd1b",
   "metadata": {},
   "outputs": [],
   "source": [
    "get_deviation_of_mean_perc(pd_loan_train, list_var_continuous, target='loan_status', multiplier=3)"
   ]
  },
  {
   "cell_type": "code",
   "execution_count": null,
   "id": "67c63c9e",
   "metadata": {},
   "outputs": [],
   "source": [
    "get_corr_matrix(dataset = pd_loan_train[list_var_continuous], \n",
    "                metodo='pearson', size_figure=[10,8])"
   ]
  },
  {
   "cell_type": "code",
   "execution_count": null,
   "id": "fd5465da",
   "metadata": {},
   "outputs": [],
   "source": [
    "corr = pd_loan_train[list_var_continuous].corr('pearson')\n",
    "new_corr = corr.abs()\n",
    "new_corr.loc[:,:] = np.tril(new_corr, k=-1) # below main lower triangle of an array\n",
    "new_corr = new_corr.stack().to_frame('correlation').reset_index().sort_values(by='correlation', ascending=False)\n",
    "new_corr[new_corr['correlation']>0.6]"
   ]
  },
  {
   "cell_type": "code",
   "execution_count": null,
   "id": "6098a79e",
   "metadata": {},
   "outputs": [],
   "source": [
    "list_var_continuous"
   ]
  },
  {
   "cell_type": "code",
   "execution_count": null,
   "id": "5aafe510",
   "metadata": {},
   "outputs": [],
   "source": [
    "get_percent_null_values_target(pd_loan_train, list_var_continuous, target='loan_status')"
   ]
  },
  {
   "cell_type": "code",
   "execution_count": null,
   "id": "105fc2c3",
   "metadata": {},
   "outputs": [],
   "source": [
    "X_train = pd_loan_train[list(set(list_var_continuous))]\n",
    "X_test = pd_loan_test[list(set(list_var_continuous))]\n",
    "imputer = KNNImputer(n_neighbors=2, weights=\"uniform\")\n",
    "model = imputer.fit(X_train)\n",
    "pd_input_train = pd.DataFrame(model.transform(X_train), \n",
    "                      columns=[i+'_input' for i in list(set(list_var_continuous))],index=pd_loan_train.index)\n",
    "pd_input_test = pd.DataFrame(model.transform(X_test), \n",
    "                      columns=[i+'_input' for i in list(set(list_var_continuous))],index=pd_loan_test.index)\n",
    "\n",
    "pd_loan_input_train = pd.concat([pd_loan_train, pd_input_train],axis=1).drop(list(set(list_var_continuous)),axis=1)\n",
    "pd_loan_input_test = pd.concat([pd_loan_test, pd_input_test],axis=1).drop(list(set(list_var_continuous)),axis=1)"
   ]
  },
  {
   "cell_type": "code",
   "execution_count": null,
   "id": "6f70458a",
   "metadata": {},
   "outputs": [],
   "source": [
    "pd_loan_input_train.shape"
   ]
  },
  {
   "cell_type": "code",
   "execution_count": null,
   "id": "5943fa68",
   "metadata": {},
   "outputs": [],
   "source": [
    "get_percent_null_values_target(pd_loan_input_train, [i+'_input' for i in list_var_continuous], target='loan_status')"
   ]
  },
  {
   "cell_type": "code",
   "execution_count": null,
   "id": "836da5f0",
   "metadata": {},
   "outputs": [],
   "source": [
    "list_var_continuous = list(pd_loan_input_train.select_dtypes('float').columns)\n",
    "get_corr_matrix(dataset = pd_loan_input_train[list_var_continuous], \n",
    "                metodo='pearson', size_figure=[10,8])"
   ]
  },
  {
   "cell_type": "code",
   "execution_count": null,
   "id": "6e6779d7",
   "metadata": {},
   "outputs": [],
   "source": [
    "pd_loan_input_train.columns"
   ]
  },
  {
   "cell_type": "code",
   "execution_count": null,
   "id": "ea45878c",
   "metadata": {},
   "outputs": [],
   "source": [
    "list_var_cat"
   ]
  },
  {
   "cell_type": "code",
   "execution_count": null,
   "id": "7b0f1111",
   "metadata": {},
   "outputs": [],
   "source": [
    "confusion_matrix = pd.crosstab(pd_loan_input_train[\"loan_status\"], pd_loan_input_train[\"grade\"])\n",
    "print(confusion_matrix)\n",
    "cramers_v(confusion_matrix.values)"
   ]
  },
  {
   "cell_type": "code",
   "execution_count": null,
   "id": "2dd5c3d7",
   "metadata": {},
   "outputs": [],
   "source": [
    "confusion_matrix = pd.crosstab(pd_loan_input_train[\"loan_status\"], pd_loan_input_train[\"loan_status\"])\n",
    "cramers_v(confusion_matrix.values)"
   ]
  },
  {
   "cell_type": "code",
   "execution_count": null,
   "id": "b1191275",
   "metadata": {},
   "outputs": [],
   "source": [
    "confusion_matrix = pd.crosstab(pd_loan_input_train[\"loan_status\"], pd_loan_input_train[\"home_ownership\"])\n",
    "cramers_v(confusion_matrix.values)"
   ]
  },
  {
   "cell_type": "code",
   "execution_count": null,
   "id": "b242a176",
   "metadata": {},
   "outputs": [],
   "source": [
    "pd_loan_input_train[list_var_cat] = pd_loan_input_train[list_var_cat].astype(\"object\").fillna(\"SIN VALOR\").astype(\"category\")\n",
    "pd_loan_input_test[list_var_cat] = pd_loan_input_test[list_var_cat].astype(\"object\").fillna(\"SIN VALOR\").astype(\"category\")"
   ]
  },
  {
   "cell_type": "code",
   "execution_count": null,
   "id": "7a588aa4",
   "metadata": {},
   "outputs": [],
   "source": [
    "pd_loan_input_train.to_csv(\"train_pd_data_preprocessing_missing_outlier.csv\")\n",
    "pd_loan_input_test.to_csv(\"test_pd_data_preprocessing_missing_outlier.csv\")"
   ]
  },
  {
   "cell_type": "code",
   "execution_count": null,
   "id": "50f83a09",
   "metadata": {},
   "outputs": [],
   "source": [
    "print(pd_loan_input_train.shape, pd_loan_input_test.shape)"
   ]
  },
  {
   "cell_type": "code",
   "execution_count": null,
   "id": "325e8a63",
   "metadata": {},
   "outputs": [],
   "source": []
  },
  {
   "cell_type": "code",
   "execution_count": null,
   "id": "c3b9abe5",
   "metadata": {},
   "outputs": [],
   "source": []
  }
 ],
 "metadata": {
  "kernelspec": {
   "display_name": "Practica0",
   "language": "python",
   "name": "practica0"
  },
  "language_info": {
   "codemirror_mode": {
    "name": "ipython",
    "version": 3
   },
   "file_extension": ".py",
   "mimetype": "text/x-python",
   "name": "python",
   "nbconvert_exporter": "python",
   "pygments_lexer": "ipython3",
   "version": "3.9.13"
  }
 },
 "nbformat": 4,
 "nbformat_minor": 5
}
